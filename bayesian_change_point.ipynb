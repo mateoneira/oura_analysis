{
 "cells": [
  {
   "cell_type": "code",
   "execution_count": 43,
   "id": "6c8d110e",
   "metadata": {},
   "outputs": [
    {
     "data": {
      "text/plain": [
       "True"
      ]
     },
     "execution_count": 43,
     "metadata": {},
     "output_type": "execute_result"
    }
   ],
   "source": [
    "import requests\n",
    "import dotenv\n",
    "import os\n",
    "import pandas as pd\n",
    "from datetime import date, timedelta\n",
    "from dateutil.relativedelta import relativedelta\n",
    "\n",
    "# Load environment variables from .env file\n",
    "dotenv.load_dotenv()"
   ]
  },
  {
   "cell_type": "code",
   "execution_count": 44,
   "id": "0491c2c7",
   "metadata": {},
   "outputs": [],
   "source": [
    "#read OURA_PAT from environment variables\n",
    "OURA_PAT = os.getenv(\"OURA_PAT\")"
   ]
  },
  {
   "cell_type": "code",
   "execution_count": null,
   "id": "eba4ac92",
   "metadata": {},
   "outputs": [],
   "source": [
    "import requests \n",
    "url = 'https://api.ouraring.com/v2/usercollection/heartrate' \n",
    "\n",
    "headers = { \n",
    "  'Authorization': f'Bearer {OURA_PAT}' \n",
    "}\n",
    "\n",
    "start_year = 2021\n",
    "end_year = 2025\n",
    "\n",
    "all_heart_rate_data = []\n",
    "\n",
    "current_start_date = date(start_year, 11, 1)\n",
    "overall_end_date = date(end_year, 7, 25)\n",
    "\n",
    "while current_start_date < overall_end_date:\n",
    "    current_end_date = current_start_date + relativedelta(months=1) - timedelta(days=1)\n",
    "\n",
    "    if current_end_date > overall_end_date:\n",
    "        current_end_date = overall_end_date\n",
    "    params = {\n",
    "        'start_datetime': current_start_date.strftime('%Y-%m-%dT%H:%M:%S-08:00'),\n",
    "        'end_datetime': current_end_date.strftime('%Y-%m-%dT%H:%M:%S-08:00')\n",
    "    }\n",
    "\n",
    "    response = requests.request('GET', url, headers=headers, params=params)\n",
    "    response_json = response.json()\n",
    "\n",
    "    if 'data' in response_json:\n",
    "      all_heart_rate_data.extend(response_json[\"data\"])\n",
    "    else:\n",
    "      print(f\"No data for period: {current_start_date} to {current_end_date}\")"
   ]
  },
  {
   "cell_type": "code",
   "execution_count": null,
   "id": "b7f6dd83",
   "metadata": {},
   "outputs": [
    {
     "ename": "KeyError",
     "evalue": "'data'",
     "output_type": "error",
     "traceback": [
      "\u001b[31m---------------------------------------------------------------------------\u001b[39m",
      "\u001b[31mKeyError\u001b[39m                                  Traceback (most recent call last)",
      "\u001b[36mCell\u001b[39m\u001b[36m \u001b[39m\u001b[32mIn[38]\u001b[39m\u001b[32m, line 2\u001b[39m\n\u001b[32m      1\u001b[39m \u001b[38;5;66;03m#convert to pandas dataframe\u001b[39;00m\n\u001b[32m----> \u001b[39m\u001b[32m2\u001b[39m heart_rate_df = pd.DataFrame(\u001b[43mresponse_json\u001b[49m\u001b[43m[\u001b[49m\u001b[33;43m'\u001b[39;49m\u001b[33;43mdata\u001b[39;49m\u001b[33;43m'\u001b[39;49m\u001b[43m]\u001b[49m)\n",
      "\u001b[31mKeyError\u001b[39m: 'data'"
     ]
    }
   ],
   "source": [
    "#convert to pandas dataframe\n",
    "heart_rate_df = pd.DataFrame(all_heart_rate_data)"
   ]
  },
  {
   "cell_type": "code",
   "execution_count": null,
   "id": "fcc0c770",
   "metadata": {},
   "outputs": [
    {
     "data": {
      "text/html": [
       "<div>\n",
       "<style scoped>\n",
       "    .dataframe tbody tr th:only-of-type {\n",
       "        vertical-align: middle;\n",
       "    }\n",
       "\n",
       "    .dataframe tbody tr th {\n",
       "        vertical-align: top;\n",
       "    }\n",
       "\n",
       "    .dataframe thead th {\n",
       "        text-align: right;\n",
       "    }\n",
       "</style>\n",
       "<table border=\"1\" class=\"dataframe\">\n",
       "  <thead>\n",
       "    <tr style=\"text-align: right;\">\n",
       "      <th></th>\n",
       "      <th>bpm</th>\n",
       "      <th>source</th>\n",
       "      <th>timestamp</th>\n",
       "    </tr>\n",
       "  </thead>\n",
       "  <tbody>\n",
       "    <tr>\n",
       "      <th>0</th>\n",
       "      <td>73</td>\n",
       "      <td>awake</td>\n",
       "      <td>2021-11-17T16:46:57+00:00</td>\n",
       "    </tr>\n",
       "    <tr>\n",
       "      <th>1</th>\n",
       "      <td>64</td>\n",
       "      <td>live</td>\n",
       "      <td>2021-11-17T16:47:07+00:00</td>\n",
       "    </tr>\n",
       "    <tr>\n",
       "      <th>2</th>\n",
       "      <td>62</td>\n",
       "      <td>awake</td>\n",
       "      <td>2021-11-17T16:47:24+00:00</td>\n",
       "    </tr>\n",
       "    <tr>\n",
       "      <th>3</th>\n",
       "      <td>63</td>\n",
       "      <td>awake</td>\n",
       "      <td>2021-11-17T16:47:26+00:00</td>\n",
       "    </tr>\n",
       "    <tr>\n",
       "      <th>4</th>\n",
       "      <td>61</td>\n",
       "      <td>live</td>\n",
       "      <td>2021-11-17T16:47:38+00:00</td>\n",
       "    </tr>\n",
       "    <tr>\n",
       "      <th>...</th>\n",
       "      <td>...</td>\n",
       "      <td>...</td>\n",
       "      <td>...</td>\n",
       "    </tr>\n",
       "    <tr>\n",
       "      <th>2574</th>\n",
       "      <td>61</td>\n",
       "      <td>awake</td>\n",
       "      <td>2021-11-30T22:03:53+00:00</td>\n",
       "    </tr>\n",
       "    <tr>\n",
       "      <th>2575</th>\n",
       "      <td>54</td>\n",
       "      <td>awake</td>\n",
       "      <td>2021-11-30T22:04:02+00:00</td>\n",
       "    </tr>\n",
       "    <tr>\n",
       "      <th>2576</th>\n",
       "      <td>74</td>\n",
       "      <td>awake</td>\n",
       "      <td>2021-12-01T07:40:40+00:00</td>\n",
       "    </tr>\n",
       "    <tr>\n",
       "      <th>2577</th>\n",
       "      <td>85</td>\n",
       "      <td>awake</td>\n",
       "      <td>2021-12-01T07:40:43+00:00</td>\n",
       "    </tr>\n",
       "    <tr>\n",
       "      <th>2578</th>\n",
       "      <td>94</td>\n",
       "      <td>awake</td>\n",
       "      <td>2021-12-01T07:40:45+00:00</td>\n",
       "    </tr>\n",
       "  </tbody>\n",
       "</table>\n",
       "<p>2579 rows × 3 columns</p>\n",
       "</div>"
      ],
      "text/plain": [
       "      bpm source                  timestamp\n",
       "0      73  awake  2021-11-17T16:46:57+00:00\n",
       "1      64   live  2021-11-17T16:47:07+00:00\n",
       "2      62  awake  2021-11-17T16:47:24+00:00\n",
       "3      63  awake  2021-11-17T16:47:26+00:00\n",
       "4      61   live  2021-11-17T16:47:38+00:00\n",
       "...   ...    ...                        ...\n",
       "2574   61  awake  2021-11-30T22:03:53+00:00\n",
       "2575   54  awake  2021-11-30T22:04:02+00:00\n",
       "2576   74  awake  2021-12-01T07:40:40+00:00\n",
       "2577   85  awake  2021-12-01T07:40:43+00:00\n",
       "2578   94  awake  2021-12-01T07:40:45+00:00\n",
       "\n",
       "[2579 rows x 3 columns]"
      ]
     },
     "execution_count": 36,
     "metadata": {},
     "output_type": "execute_result"
    }
   ],
   "source": [
    "heart_rate_df "
   ]
  }
 ],
 "metadata": {
  "kernelspec": {
   "display_name": "pymc_env",
   "language": "python",
   "name": "python3"
  },
  "language_info": {
   "codemirror_mode": {
    "name": "ipython",
    "version": 3
   },
   "file_extension": ".py",
   "mimetype": "text/x-python",
   "name": "python",
   "nbconvert_exporter": "python",
   "pygments_lexer": "ipython3",
   "version": "3.13.5"
  }
 },
 "nbformat": 4,
 "nbformat_minor": 5
}
